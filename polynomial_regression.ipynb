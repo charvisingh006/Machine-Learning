{
  "cells": [
    {
      "cell_type": "markdown",
      "metadata": {
        "colab_type": "text",
        "id": "vN99YjPTDena"
      },
      "source": [
        "# Polynomial Regression"
      ]
    },
    {
      "cell_type": "markdown",
      "metadata": {
        "colab_type": "text",
        "id": "ZIx_naXnDyHd"
      },
      "source": [
        "## Importing the libraries"
      ]
    },
    {
      "cell_type": "code",
      "execution_count": 1,
      "metadata": {
        "colab": {},
        "colab_type": "code",
        "id": "FjnmdyPLD2tS"
      },
      "outputs": [],
      "source": [
        "import numpy as np\n",
        "import matplotlib.pyplot as plt\n",
        "import pandas as pd"
      ]
    },
    {
      "cell_type": "markdown",
      "metadata": {
        "colab_type": "text",
        "id": "6c8YExmOD5x5"
      },
      "source": [
        "## Importing the dataset"
      ]
    },
    {
      "cell_type": "code",
      "execution_count": 2,
      "metadata": {
        "colab": {},
        "colab_type": "code",
        "id": "nQOdXhjXD_AE"
      },
      "outputs": [],
      "source": [
        "dataset = pd.read_csv(r'C:\\Users\\admin\\Documents\\train_energy_data.csv')\n",
        "X = dataset.iloc[:, :-1].values\n",
        "y = dataset.iloc[:, -1].values"
      ]
    },
    {
      "cell_type": "code",
      "execution_count": 3,
      "metadata": {},
      "outputs": [],
      "source": [
        "from sklearn.compose import ColumnTransformer\n",
        "from sklearn.preprocessing import OneHotEncoder\n",
        "\n",
        "#Let's create object for encoding\n",
        "\n",
        "ct  = ColumnTransformer(transformers=[('encoder', OneHotEncoder(), [0,5])], remainder= 'passthrough')\n",
        "X = np.array(ct.fit_transform(X))"
      ]
    },
    {
      "cell_type": "markdown",
      "metadata": {
        "colab_type": "text",
        "id": "Ud_1XTb28iXH"
      },
      "source": [
        "## Splitting the dataset into the Training set and Test set"
      ]
    },
    {
      "cell_type": "code",
      "execution_count": 5,
      "metadata": {
        "colab": {},
        "colab_type": "code",
        "id": "bUib_pbl8ipB"
      },
      "outputs": [],
      "source": [
        "from sklearn.model_selection import train_test_split\n",
        "X_train, X_test, y_train, y_test = train_test_split(X, y, test_size = 0.2, random_state = 0)"
      ]
    },
    {
      "cell_type": "markdown",
      "metadata": {
        "colab_type": "text",
        "id": "Rb5nWuSHEfBV"
      },
      "source": [
        "## Training the Polynomial Regression model on the Training set"
      ]
    },
    {
      "cell_type": "code",
      "execution_count": 6,
      "metadata": {
        "colab": {},
        "colab_type": "code",
        "id": "HYplp4pTEm0O"
      },
      "outputs": [
        {
          "data": {
            "text/html": [
              "<style>#sk-container-id-1 {color: black;}#sk-container-id-1 pre{padding: 0;}#sk-container-id-1 div.sk-toggleable {background-color: white;}#sk-container-id-1 label.sk-toggleable__label {cursor: pointer;display: block;width: 100%;margin-bottom: 0;padding: 0.3em;box-sizing: border-box;text-align: center;}#sk-container-id-1 label.sk-toggleable__label-arrow:before {content: \"▸\";float: left;margin-right: 0.25em;color: #696969;}#sk-container-id-1 label.sk-toggleable__label-arrow:hover:before {color: black;}#sk-container-id-1 div.sk-estimator:hover label.sk-toggleable__label-arrow:before {color: black;}#sk-container-id-1 div.sk-toggleable__content {max-height: 0;max-width: 0;overflow: hidden;text-align: left;background-color: #f0f8ff;}#sk-container-id-1 div.sk-toggleable__content pre {margin: 0.2em;color: black;border-radius: 0.25em;background-color: #f0f8ff;}#sk-container-id-1 input.sk-toggleable__control:checked~div.sk-toggleable__content {max-height: 200px;max-width: 100%;overflow: auto;}#sk-container-id-1 input.sk-toggleable__control:checked~label.sk-toggleable__label-arrow:before {content: \"▾\";}#sk-container-id-1 div.sk-estimator input.sk-toggleable__control:checked~label.sk-toggleable__label {background-color: #d4ebff;}#sk-container-id-1 div.sk-label input.sk-toggleable__control:checked~label.sk-toggleable__label {background-color: #d4ebff;}#sk-container-id-1 input.sk-hidden--visually {border: 0;clip: rect(1px 1px 1px 1px);clip: rect(1px, 1px, 1px, 1px);height: 1px;margin: -1px;overflow: hidden;padding: 0;position: absolute;width: 1px;}#sk-container-id-1 div.sk-estimator {font-family: monospace;background-color: #f0f8ff;border: 1px dotted black;border-radius: 0.25em;box-sizing: border-box;margin-bottom: 0.5em;}#sk-container-id-1 div.sk-estimator:hover {background-color: #d4ebff;}#sk-container-id-1 div.sk-parallel-item::after {content: \"\";width: 100%;border-bottom: 1px solid gray;flex-grow: 1;}#sk-container-id-1 div.sk-label:hover label.sk-toggleable__label {background-color: #d4ebff;}#sk-container-id-1 div.sk-serial::before {content: \"\";position: absolute;border-left: 1px solid gray;box-sizing: border-box;top: 0;bottom: 0;left: 50%;z-index: 0;}#sk-container-id-1 div.sk-serial {display: flex;flex-direction: column;align-items: center;background-color: white;padding-right: 0.2em;padding-left: 0.2em;position: relative;}#sk-container-id-1 div.sk-item {position: relative;z-index: 1;}#sk-container-id-1 div.sk-parallel {display: flex;align-items: stretch;justify-content: center;background-color: white;position: relative;}#sk-container-id-1 div.sk-item::before, #sk-container-id-1 div.sk-parallel-item::before {content: \"\";position: absolute;border-left: 1px solid gray;box-sizing: border-box;top: 0;bottom: 0;left: 50%;z-index: -1;}#sk-container-id-1 div.sk-parallel-item {display: flex;flex-direction: column;z-index: 1;position: relative;background-color: white;}#sk-container-id-1 div.sk-parallel-item:first-child::after {align-self: flex-end;width: 50%;}#sk-container-id-1 div.sk-parallel-item:last-child::after {align-self: flex-start;width: 50%;}#sk-container-id-1 div.sk-parallel-item:only-child::after {width: 0;}#sk-container-id-1 div.sk-dashed-wrapped {border: 1px dashed gray;margin: 0 0.4em 0.5em 0.4em;box-sizing: border-box;padding-bottom: 0.4em;background-color: white;}#sk-container-id-1 div.sk-label label {font-family: monospace;font-weight: bold;display: inline-block;line-height: 1.2em;}#sk-container-id-1 div.sk-label-container {text-align: center;}#sk-container-id-1 div.sk-container {/* jupyter's `normalize.less` sets `[hidden] { display: none; }` but bootstrap.min.css set `[hidden] { display: none !important; }` so we also need the `!important` here to be able to override the default hidden behavior on the sphinx rendered scikit-learn.org. See: https://github.com/scikit-learn/scikit-learn/issues/21755 */display: inline-block !important;position: relative;}#sk-container-id-1 div.sk-text-repr-fallback {display: none;}</style><div id=\"sk-container-id-1\" class=\"sk-top-container\"><div class=\"sk-text-repr-fallback\"><pre>LinearRegression()</pre><b>In a Jupyter environment, please rerun this cell to show the HTML representation or trust the notebook. <br />On GitHub, the HTML representation is unable to render, please try loading this page with nbviewer.org.</b></div><div class=\"sk-container\" hidden><div class=\"sk-item\"><div class=\"sk-estimator sk-toggleable\"><input class=\"sk-toggleable__control sk-hidden--visually\" id=\"sk-estimator-id-1\" type=\"checkbox\" checked><label for=\"sk-estimator-id-1\" class=\"sk-toggleable__label sk-toggleable__label-arrow\">LinearRegression</label><div class=\"sk-toggleable__content\"><pre>LinearRegression()</pre></div></div></div></div></div>"
            ],
            "text/plain": [
              "LinearRegression()"
            ]
          },
          "execution_count": 6,
          "metadata": {},
          "output_type": "execute_result"
        }
      ],
      "source": [
        "from sklearn.preprocessing import PolynomialFeatures\n",
        "from sklearn.linear_model import LinearRegression\n",
        "poly_reg = PolynomialFeatures(degree = 4)\n",
        "X_poly = poly_reg.fit_transform(X_train)\n",
        "regressor = LinearRegression()\n",
        "regressor.fit(X_poly, y_train)"
      ]
    },
    {
      "cell_type": "markdown",
      "metadata": {
        "colab_type": "text",
        "id": "pzF3BRps9nlk"
      },
      "source": [
        "## Predicting the Test set results"
      ]
    },
    {
      "cell_type": "code",
      "execution_count": 7,
      "metadata": {
        "colab": {},
        "colab_type": "code",
        "id": "36aFLFBK9pMk"
      },
      "outputs": [
        {
          "name": "stdout",
          "output_type": "stream",
          "text": [
            "[[2815.83 2883.63]\n",
            " [5207.63 5147.11]\n",
            " [5267.26 5332.1 ]\n",
            " [3206.77 3027.78]\n",
            " [4282.76 4254.59]\n",
            " [4882.97 4983.  ]\n",
            " [6023.3  5754.96]\n",
            " [4650.23 4693.8 ]\n",
            " [5166.89 5101.13]\n",
            " [5220.12 5268.16]\n",
            " [3693.8  3776.21]\n",
            " [3559.97 3598.99]\n",
            " [2853.51 2921.01]\n",
            " [3832.43 3859.59]\n",
            " [5668.87 5744.86]\n",
            " [5686.09 5505.97]\n",
            " [3432.53 3408.98]\n",
            " [3631.33 3639.76]\n",
            " [4802.7  5031.14]\n",
            " [4728.25 4745.47]\n",
            " [4676.65 4700.42]\n",
            " [4676.14 4650.7 ]\n",
            " [3581.37 3631.08]\n",
            " [4804.5  4969.79]\n",
            " [5146.92 5088.21]\n",
            " [3193.28 3314.91]\n",
            " [4421.41 4430.49]\n",
            " [2605.15 2656.26]\n",
            " [5663.79 5877.19]\n",
            " [5735.22 5744.99]\n",
            " [5354.27 5390.76]\n",
            " [4421.29 4417.34]\n",
            " [4472.54 4498.07]\n",
            " [3844.91 3818.71]\n",
            " [2435.3  2619.36]\n",
            " [3246.58 3377.38]\n",
            " [2805.87 2815.34]\n",
            " [5909.53 5961.49]\n",
            " [3439.58 3525.66]\n",
            " [3039.07 3093.71]\n",
            " [4028.76 4034.64]\n",
            " [3592.48 3546.34]\n",
            " [3877.13 3937.59]\n",
            " [3798.   3952.58]\n",
            " [2864.87 2755.75]\n",
            " [3688.66 3630.24]\n",
            " [3657.27 3653.25]\n",
            " [3442.89 3435.18]\n",
            " [3214.51 3109.29]\n",
            " [5325.54 5290.06]\n",
            " [5495.83 5590.7 ]\n",
            " [5062.76 5080.4 ]\n",
            " [3729.61 3750.37]\n",
            " [3974.31 3985.8 ]\n",
            " [4379.94 4235.19]\n",
            " [5541.95 5634.35]\n",
            " [4897.44 4950.15]\n",
            " [4771.95 4683.  ]\n",
            " [4585.05 4531.32]\n",
            " [5474.04 5338.17]\n",
            " [4058.11 4075.67]\n",
            " [4545.62 4684.93]\n",
            " [3602.88 3536.81]\n",
            " [4640.03 4576.47]\n",
            " [5221.66 5023.85]\n",
            " [4690.4  4900.84]\n",
            " [4010.13 3883.46]\n",
            " [4419.83 4306.74]\n",
            " [2010.78 1683.95]\n",
            " [3764.8  3751.05]\n",
            " [4921.17 4684.16]\n",
            " [5220.91 5247.04]\n",
            " [5581.46 5781.83]\n",
            " [5414.45 5369.95]\n",
            " [2367.6  2478.55]\n",
            " [3908.39 4099.62]\n",
            " [4147.06 4172.54]\n",
            " [4939.86 5050.37]\n",
            " [4822.11 4749.64]\n",
            " [3985.27 3816.15]\n",
            " [5800.91 5842.72]\n",
            " [3486.77 3534.74]\n",
            " [3634.06 3601.86]\n",
            " [5095.52 5040.46]\n",
            " [5058.71 5063.9 ]\n",
            " [3173.54 3249.36]\n",
            " [3408.15 3253.47]\n",
            " [3880.54 3965.87]\n",
            " [3659.57 3609.75]\n",
            " [5778.26 5646.19]\n",
            " [3115.49 3127.07]\n",
            " [3999.26 4002.72]\n",
            " [3545.88 3715.45]\n",
            " [3671.63 3435.21]\n",
            " [3703.34 3733.52]\n",
            " [3671.83 3395.45]\n",
            " [3572.4  3578.29]\n",
            " [4427.13 4246.55]\n",
            " [4578.35 4271.39]\n",
            " [4493.94 4612.22]\n",
            " [4175.21 4090.41]\n",
            " [4876.62 4956.67]\n",
            " [4294.63 4307.72]\n",
            " [5439.48 5359.1 ]\n",
            " [3730.86 3663.21]\n",
            " [5064.34 5329.29]\n",
            " [5103.49 5054.19]\n",
            " [3414.94 3487.69]\n",
            " [4948.   4748.66]\n",
            " [4764.97 4710.15]\n",
            " [2996.85 2961.76]\n",
            " [4066.31 4085.95]\n",
            " [2643.21 2735.63]\n",
            " [3528.62 3601.83]\n",
            " [2675.42 2752.62]\n",
            " [5203.79 5082.68]\n",
            " [5140.08 5177.22]\n",
            " [3666.41 3689.04]\n",
            " [2261.49 2475.76]\n",
            " [3310.11 3314.12]\n",
            " [3272.26 3304.91]\n",
            " [3063.38 3249.48]\n",
            " [3452.55 3744.59]\n",
            " [4437.99 4443.15]\n",
            " [3915.28 4027.56]\n",
            " [2688.39 2696.49]\n",
            " [5495.06 5607.7 ]\n",
            " [4379.44 4561.71]\n",
            " [4274.81 4351.81]\n",
            " [2888.62 2660.28]\n",
            " [3615.27 3953.1 ]\n",
            " [4649.87 4698.47]\n",
            " [5080.97 5037.86]\n",
            " [3994.79 3900.33]\n",
            " [5081.05 5327.65]\n",
            " [4925.93 4957.36]\n",
            " [4201.52 4302.81]\n",
            " [5773.95 5841.65]\n",
            " [4869.81 4876.08]\n",
            " [3140.87 3290.94]\n",
            " [3877.4  3796.71]\n",
            " [2553.35 2622.38]\n",
            " [3967.86 4214.3 ]\n",
            " [4985.38 5018.25]\n",
            " [6507.67 6383.5 ]\n",
            " [4230.76 4218.29]\n",
            " [3640.98 3701.68]\n",
            " [4185.78 4213.66]\n",
            " [2333.63 2417.11]\n",
            " [2482.   2205.2 ]\n",
            " [5518.44 5660.75]\n",
            " [4287.64 4230.09]\n",
            " [4443.55 4543.67]\n",
            " [4488.91 4460.84]\n",
            " [4298.89 4211.11]\n",
            " [6407.69 6458.51]\n",
            " [2499.74 2241.96]\n",
            " [2904.4  2862.17]\n",
            " [4302.97 4601.21]\n",
            " [2993.09 3057.53]\n",
            " [5934.25 5862.82]\n",
            " [2779.03 2683.73]\n",
            " [3600.12 3372.2 ]\n",
            " [3002.46 3196.17]\n",
            " [3542.83 3546.62]\n",
            " [4752.08 4854.25]\n",
            " [3198.02 3103.65]\n",
            " [4501.65 4796.83]\n",
            " [4877.42 4787.64]\n",
            " [5590.97 5866.63]\n",
            " [5473.55 5669.86]\n",
            " [4123.72 4102.94]\n",
            " [3140.97 3148.79]\n",
            " [4802.14 4813.61]\n",
            " [2848.24 2744.38]\n",
            " [3754.39 3655.82]\n",
            " [4923.98 5164.94]\n",
            " [2696.7  2500.56]\n",
            " [3334.32 3372.41]\n",
            " [4995.06 4922.36]\n",
            " [3903.7  3838.73]\n",
            " [3378.94 3423.63]\n",
            " [5284.96 5260.26]\n",
            " [2353.6  2137.35]\n",
            " [5024.94 4979.87]\n",
            " [3439.13 3773.61]\n",
            " [3589.52 3602.33]\n",
            " [2727.49 2811.68]\n",
            " [3031.02 3140.2 ]\n",
            " [4149.79 4195.75]\n",
            " [3521.6  3571.76]\n",
            " [3312.11 3388.25]\n",
            " [4896.67 4947.78]\n",
            " [4738.97 4687.67]\n",
            " [4307.66 4377.04]\n",
            " [4194.3  4314.56]\n",
            " [5488.42 5438.11]\n",
            " [4634.08 4600.3 ]\n",
            " [4647.41 4518.12]\n",
            " [4964.2  4805.22]]\n"
          ]
        }
      ],
      "source": [
        "y_pred = regressor.predict(poly_reg.transform(X_test))\n",
        "np.set_printoptions(precision=2)\n",
        "print(np.concatenate((y_pred.reshape(len(y_pred),1), y_test.reshape(len(y_test),1)),1))"
      ]
    },
    {
      "cell_type": "markdown",
      "metadata": {
        "colab_type": "text",
        "id": "Fz1uTlWV919-"
      },
      "source": [
        "## Evaluating the Model Performance"
      ]
    },
    {
      "cell_type": "code",
      "execution_count": 8,
      "metadata": {
        "colab": {},
        "colab_type": "code",
        "id": "xvZQ_4W893-e"
      },
      "outputs": [
        {
          "data": {
            "text/plain": [
              "0.9830693336380759"
            ]
          },
          "execution_count": 8,
          "metadata": {},
          "output_type": "execute_result"
        }
      ],
      "source": [
        "from sklearn.metrics import r2_score\n",
        "r2_score(y_test, y_pred)"
      ]
    }
  ],
  "metadata": {
    "colab": {
      "collapsed_sections": [],
      "name": "polynomial_regression.ipynb",
      "provenance": [],
      "toc_visible": true
    },
    "kernelspec": {
      "display_name": "Python 3",
      "name": "python3"
    },
    "language_info": {
      "codemirror_mode": {
        "name": "ipython",
        "version": 3
      },
      "file_extension": ".py",
      "mimetype": "text/x-python",
      "name": "python",
      "nbconvert_exporter": "python",
      "pygments_lexer": "ipython3",
      "version": "3.8.9"
    }
  },
  "nbformat": 4,
  "nbformat_minor": 0
}
