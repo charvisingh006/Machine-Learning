{
  "cells": [
    {
      "cell_type": "markdown",
      "metadata": {
        "colab_type": "text",
        "id": "LeamvpPVXuS_"
      },
      "source": [
        "# Random Forest Regression"
      ]
    },
    {
      "cell_type": "markdown",
      "metadata": {
        "colab_type": "text",
        "id": "O2wvZ7SKXzVC"
      },
      "source": [
        "## Importing the libraries"
      ]
    },
    {
      "cell_type": "code",
      "execution_count": 2,
      "metadata": {
        "colab": {},
        "colab_type": "code",
        "id": "PVmESEFZX4Ig"
      },
      "outputs": [],
      "source": [
        "import numpy as np\n",
        "import matplotlib.pyplot as plt\n",
        "import pandas as pd"
      ]
    },
    {
      "cell_type": "markdown",
      "metadata": {
        "colab_type": "text",
        "id": "zgbK_F8-X7em"
      },
      "source": [
        "## Importing the dataset"
      ]
    },
    {
      "cell_type": "code",
      "execution_count": 3,
      "metadata": {
        "colab": {},
        "colab_type": "code",
        "id": "adBE4tjQX_Bh"
      },
      "outputs": [],
      "source": [
        "dataset = pd.read_csv(r'C:\\Users\\admin\\Documents\\train_energy_data.csv')\n",
        "X = dataset.iloc[:, :-1].values\n",
        "y = dataset.iloc[:, -1].values"
      ]
    },
    {
      "cell_type": "code",
      "execution_count": 4,
      "metadata": {},
      "outputs": [],
      "source": [
        "from sklearn.compose import ColumnTransformer\n",
        "from sklearn.preprocessing import OneHotEncoder\n",
        "\n",
        "#Let's create object for encoding\n",
        "\n",
        "ct  = ColumnTransformer(transformers=[('encoder', OneHotEncoder(), [0,5])], remainder= 'passthrough')\n",
        "X = np.array(ct.fit_transform(X))"
      ]
    },
    {
      "cell_type": "markdown",
      "metadata": {
        "colab_type": "text",
        "id": "ptNjcy7bOBlD"
      },
      "source": [
        "## Splitting the dataset into the Training set and Test set"
      ]
    },
    {
      "cell_type": "code",
      "execution_count": 5,
      "metadata": {
        "colab": {},
        "colab_type": "code",
        "id": "C7NdofoCOFQF"
      },
      "outputs": [],
      "source": [
        "from sklearn.model_selection import train_test_split\n",
        "X_train, X_test, y_train, y_test = train_test_split(X, y, test_size = 0.2, random_state = 0)"
      ]
    },
    {
      "cell_type": "markdown",
      "metadata": {
        "colab_type": "text",
        "id": "v4S2fyIBYDcu"
      },
      "source": [
        "## Training the Random Forest Regression model on the whole dataset"
      ]
    },
    {
      "cell_type": "code",
      "execution_count": 6,
      "metadata": {
        "colab": {},
        "colab_type": "code",
        "id": "o8dOCoJ1YKMc"
      },
      "outputs": [
        {
          "data": {
            "text/html": [
              "<style>#sk-container-id-1 {color: black;}#sk-container-id-1 pre{padding: 0;}#sk-container-id-1 div.sk-toggleable {background-color: white;}#sk-container-id-1 label.sk-toggleable__label {cursor: pointer;display: block;width: 100%;margin-bottom: 0;padding: 0.3em;box-sizing: border-box;text-align: center;}#sk-container-id-1 label.sk-toggleable__label-arrow:before {content: \"▸\";float: left;margin-right: 0.25em;color: #696969;}#sk-container-id-1 label.sk-toggleable__label-arrow:hover:before {color: black;}#sk-container-id-1 div.sk-estimator:hover label.sk-toggleable__label-arrow:before {color: black;}#sk-container-id-1 div.sk-toggleable__content {max-height: 0;max-width: 0;overflow: hidden;text-align: left;background-color: #f0f8ff;}#sk-container-id-1 div.sk-toggleable__content pre {margin: 0.2em;color: black;border-radius: 0.25em;background-color: #f0f8ff;}#sk-container-id-1 input.sk-toggleable__control:checked~div.sk-toggleable__content {max-height: 200px;max-width: 100%;overflow: auto;}#sk-container-id-1 input.sk-toggleable__control:checked~label.sk-toggleable__label-arrow:before {content: \"▾\";}#sk-container-id-1 div.sk-estimator input.sk-toggleable__control:checked~label.sk-toggleable__label {background-color: #d4ebff;}#sk-container-id-1 div.sk-label input.sk-toggleable__control:checked~label.sk-toggleable__label {background-color: #d4ebff;}#sk-container-id-1 input.sk-hidden--visually {border: 0;clip: rect(1px 1px 1px 1px);clip: rect(1px, 1px, 1px, 1px);height: 1px;margin: -1px;overflow: hidden;padding: 0;position: absolute;width: 1px;}#sk-container-id-1 div.sk-estimator {font-family: monospace;background-color: #f0f8ff;border: 1px dotted black;border-radius: 0.25em;box-sizing: border-box;margin-bottom: 0.5em;}#sk-container-id-1 div.sk-estimator:hover {background-color: #d4ebff;}#sk-container-id-1 div.sk-parallel-item::after {content: \"\";width: 100%;border-bottom: 1px solid gray;flex-grow: 1;}#sk-container-id-1 div.sk-label:hover label.sk-toggleable__label {background-color: #d4ebff;}#sk-container-id-1 div.sk-serial::before {content: \"\";position: absolute;border-left: 1px solid gray;box-sizing: border-box;top: 0;bottom: 0;left: 50%;z-index: 0;}#sk-container-id-1 div.sk-serial {display: flex;flex-direction: column;align-items: center;background-color: white;padding-right: 0.2em;padding-left: 0.2em;position: relative;}#sk-container-id-1 div.sk-item {position: relative;z-index: 1;}#sk-container-id-1 div.sk-parallel {display: flex;align-items: stretch;justify-content: center;background-color: white;position: relative;}#sk-container-id-1 div.sk-item::before, #sk-container-id-1 div.sk-parallel-item::before {content: \"\";position: absolute;border-left: 1px solid gray;box-sizing: border-box;top: 0;bottom: 0;left: 50%;z-index: -1;}#sk-container-id-1 div.sk-parallel-item {display: flex;flex-direction: column;z-index: 1;position: relative;background-color: white;}#sk-container-id-1 div.sk-parallel-item:first-child::after {align-self: flex-end;width: 50%;}#sk-container-id-1 div.sk-parallel-item:last-child::after {align-self: flex-start;width: 50%;}#sk-container-id-1 div.sk-parallel-item:only-child::after {width: 0;}#sk-container-id-1 div.sk-dashed-wrapped {border: 1px dashed gray;margin: 0 0.4em 0.5em 0.4em;box-sizing: border-box;padding-bottom: 0.4em;background-color: white;}#sk-container-id-1 div.sk-label label {font-family: monospace;font-weight: bold;display: inline-block;line-height: 1.2em;}#sk-container-id-1 div.sk-label-container {text-align: center;}#sk-container-id-1 div.sk-container {/* jupyter's `normalize.less` sets `[hidden] { display: none; }` but bootstrap.min.css set `[hidden] { display: none !important; }` so we also need the `!important` here to be able to override the default hidden behavior on the sphinx rendered scikit-learn.org. See: https://github.com/scikit-learn/scikit-learn/issues/21755 */display: inline-block !important;position: relative;}#sk-container-id-1 div.sk-text-repr-fallback {display: none;}</style><div id=\"sk-container-id-1\" class=\"sk-top-container\"><div class=\"sk-text-repr-fallback\"><pre>RandomForestRegressor(n_estimators=10, random_state=0)</pre><b>In a Jupyter environment, please rerun this cell to show the HTML representation or trust the notebook. <br />On GitHub, the HTML representation is unable to render, please try loading this page with nbviewer.org.</b></div><div class=\"sk-container\" hidden><div class=\"sk-item\"><div class=\"sk-estimator sk-toggleable\"><input class=\"sk-toggleable__control sk-hidden--visually\" id=\"sk-estimator-id-1\" type=\"checkbox\" checked><label for=\"sk-estimator-id-1\" class=\"sk-toggleable__label sk-toggleable__label-arrow\">RandomForestRegressor</label><div class=\"sk-toggleable__content\"><pre>RandomForestRegressor(n_estimators=10, random_state=0)</pre></div></div></div></div></div>"
            ],
            "text/plain": [
              "RandomForestRegressor(n_estimators=10, random_state=0)"
            ]
          },
          "execution_count": 6,
          "metadata": {},
          "output_type": "execute_result"
        }
      ],
      "source": [
        "from sklearn.ensemble import RandomForestRegressor\n",
        "regressor = RandomForestRegressor(n_estimators = 10, random_state = 0)\n",
        "regressor.fit(X_train, y_train)"
      ]
    },
    {
      "cell_type": "markdown",
      "metadata": {
        "colab_type": "text",
        "id": "DM_jh0frOPKE"
      },
      "source": [
        "## Predicting the Test set results"
      ]
    },
    {
      "cell_type": "code",
      "execution_count": 7,
      "metadata": {
        "colab": {},
        "colab_type": "code",
        "id": "JGa9ZfM4OTNw"
      },
      "outputs": [
        {
          "name": "stdout",
          "output_type": "stream",
          "text": [
            "[[3111.75 2883.63]\n",
            " [5063.44 5147.11]\n",
            " [5120.49 5332.1 ]\n",
            " [3012.42 3027.78]\n",
            " [4317.69 4254.59]\n",
            " [5126.43 4983.  ]\n",
            " [5688.3  5754.96]\n",
            " [4680.11 4693.8 ]\n",
            " [5028.28 5101.13]\n",
            " [5107.66 5268.16]\n",
            " [3598.15 3776.21]\n",
            " [3640.57 3598.99]\n",
            " [2939.02 2921.01]\n",
            " [3972.26 3859.59]\n",
            " [5475.71 5744.86]\n",
            " [5484.38 5505.97]\n",
            " [3431.25 3408.98]\n",
            " [3553.99 3639.76]\n",
            " [4916.35 5031.14]\n",
            " [4781.04 4745.47]\n",
            " [4757.34 4700.42]\n",
            " [4481.67 4650.7 ]\n",
            " [3837.36 3631.08]\n",
            " [4943.93 4969.79]\n",
            " [4893.94 5088.21]\n",
            " [3679.62 3314.91]\n",
            " [4255.91 4430.49]\n",
            " [2706.05 2656.26]\n",
            " [5703.32 5877.19]\n",
            " [5510.68 5744.99]\n",
            " [5490.74 5390.76]\n",
            " [4287.39 4417.34]\n",
            " [4568.   4498.07]\n",
            " [3783.04 3818.71]\n",
            " [2696.26 2619.36]\n",
            " [3433.79 3377.38]\n",
            " [3161.25 2815.34]\n",
            " [5698.25 5961.49]\n",
            " [3540.58 3525.66]\n",
            " [3373.32 3093.71]\n",
            " [4122.17 4034.64]\n",
            " [3691.12 3546.34]\n",
            " [4016.27 3937.59]\n",
            " [3997.12 3952.58]\n",
            " [2711.78 2755.75]\n",
            " [3840.56 3630.24]\n",
            " [3784.61 3653.25]\n",
            " [3572.95 3435.18]\n",
            " [3112.18 3109.29]\n",
            " [5150.85 5290.06]\n",
            " [5375.55 5590.7 ]\n",
            " [4852.6  5080.4 ]\n",
            " [4002.6  3750.37]\n",
            " [3780.37 3985.8 ]\n",
            " [4409.77 4235.19]\n",
            " [5403.75 5634.35]\n",
            " [4881.36 4950.15]\n",
            " [4427.71 4683.  ]\n",
            " [4640.03 4531.32]\n",
            " [5144.81 5338.17]\n",
            " [3962.17 4075.67]\n",
            " [4830.87 4684.93]\n",
            " [3748.03 3536.81]\n",
            " [4239.23 4576.47]\n",
            " [4781.55 5023.85]\n",
            " [4548.57 4900.84]\n",
            " [4111.76 3883.46]\n",
            " [4330.38 4306.74]\n",
            " [2040.01 1683.95]\n",
            " [3867.41 3751.05]\n",
            " [4605.8  4684.16]\n",
            " [5298.87 5247.04]\n",
            " [5535.8  5781.83]\n",
            " [5249.16 5369.95]\n",
            " [2403.34 2478.55]\n",
            " [4212.11 4099.62]\n",
            " [4345.08 4172.54]\n",
            " [4934.36 5050.37]\n",
            " [4728.03 4749.64]\n",
            " [3798.42 3816.15]\n",
            " [5916.79 5842.72]\n",
            " [3496.38 3534.74]\n",
            " [3555.67 3601.86]\n",
            " [4901.52 5040.46]\n",
            " [4882.41 5063.9 ]\n",
            " [3348.22 3249.36]\n",
            " [3203.76 3253.47]\n",
            " [4073.14 3965.87]\n",
            " [3740.53 3609.75]\n",
            " [5455.4  5646.19]\n",
            " [3246.73 3127.07]\n",
            " [4094.91 4002.72]\n",
            " [3571.43 3715.45]\n",
            " [3527.52 3435.21]\n",
            " [3679.78 3733.52]\n",
            " [3687.76 3395.45]\n",
            " [3633.92 3578.29]\n",
            " [4285.39 4246.55]\n",
            " [4259.03 4271.39]\n",
            " [4426.32 4612.22]\n",
            " [4377.36 4090.41]\n",
            " [5010.31 4956.67]\n",
            " [4227.06 4307.72]\n",
            " [5150.71 5359.1 ]\n",
            " [3669.12 3663.21]\n",
            " [5309.26 5329.29]\n",
            " [4890.47 5054.19]\n",
            " [3555.73 3487.69]\n",
            " [4678.41 4748.66]\n",
            " [4797.4  4710.15]\n",
            " [3112.06 2961.76]\n",
            " [4206.04 4085.95]\n",
            " [2914.02 2735.63]\n",
            " [3583.18 3601.83]\n",
            " [3226.21 2752.62]\n",
            " [4701.87 5082.68]\n",
            " [5025.95 5177.22]\n",
            " [3634.92 3689.04]\n",
            " [2588.29 2475.76]\n",
            " [3373.35 3314.12]\n",
            " [3344.89 3304.91]\n",
            " [3289.32 3249.48]\n",
            " [3620.07 3744.59]\n",
            " [4436.67 4443.15]\n",
            " [3700.26 4027.56]\n",
            " [2841.54 2696.49]\n",
            " [5651.22 5607.7 ]\n",
            " [4326.82 4561.71]\n",
            " [4478.88 4351.81]\n",
            " [2740.07 2660.28]\n",
            " [3952.47 3953.1 ]\n",
            " [4550.93 4698.47]\n",
            " [4882.55 5037.86]\n",
            " [3916.74 3900.33]\n",
            " [5404.08 5327.65]\n",
            " [4992.23 4957.36]\n",
            " [4543.49 4302.81]\n",
            " [5459.33 5841.65]\n",
            " [5055.34 4876.08]\n",
            " [3077.29 3290.94]\n",
            " [3736.77 3796.71]\n",
            " [2725.36 2622.38]\n",
            " [3883.04 4214.3 ]\n",
            " [4908.88 5018.25]\n",
            " [6046.67 6383.5 ]\n",
            " [4256.5  4218.29]\n",
            " [3767.62 3701.68]\n",
            " [4253.23 4213.66]\n",
            " [2517.82 2417.11]\n",
            " [2437.12 2205.2 ]\n",
            " [5571.81 5660.75]\n",
            " [4234.98 4230.09]\n",
            " [4495.41 4543.67]\n",
            " [4486.88 4460.84]\n",
            " [4171.88 4211.11]\n",
            " [6210.17 6458.51]\n",
            " [2356.89 2241.96]\n",
            " [2972.55 2862.17]\n",
            " [4510.19 4601.21]\n",
            " [3111.4  3057.53]\n",
            " [5405.39 5862.82]\n",
            " [2895.29 2683.73]\n",
            " [3551.21 3372.2 ]\n",
            " [3410.82 3196.17]\n",
            " [3593.87 3546.62]\n",
            " [4772.15 4854.25]\n",
            " [3171.69 3103.65]\n",
            " [4835.72 4796.83]\n",
            " [4894.87 4787.64]\n",
            " [5765.3  5866.63]\n",
            " [5693.18 5669.86]\n",
            " [4123.71 4102.94]\n",
            " [3260.65 3148.79]\n",
            " [4739.01 4813.61]\n",
            " [2940.03 2744.38]\n",
            " [3686.7  3655.82]\n",
            " [4948.55 5164.94]\n",
            " [2703.28 2500.56]\n",
            " [3487.45 3372.41]\n",
            " [5097.14 4922.36]\n",
            " [3785.03 3838.73]\n",
            " [3608.02 3423.63]\n",
            " [5157.7  5260.26]\n",
            " [2675.38 2137.35]\n",
            " [4895.09 4979.87]\n",
            " [3774.32 3773.61]\n",
            " [3665.9  3602.33]\n",
            " [2735.07 2811.68]\n",
            " [3076.   3140.2 ]\n",
            " [4271.9  4195.75]\n",
            " [3692.85 3571.76]\n",
            " [3490.25 3388.25]\n",
            " [4830.61 4947.78]\n",
            " [4592.48 4687.67]\n",
            " [4300.72 4377.04]\n",
            " [4365.52 4314.56]\n",
            " [5124.29 5438.11]\n",
            " [4502.57 4600.3 ]\n",
            " [4452.98 4518.12]\n",
            " [4889.84 4805.22]]\n"
          ]
        }
      ],
      "source": [
        "y_pred = regressor.predict(X_test)\n",
        "np.set_printoptions(precision=2)\n",
        "print(np.concatenate((y_pred.reshape(len(y_pred),1), y_test.reshape(len(y_test),1)),1))"
      ]
    },
    {
      "cell_type": "markdown",
      "metadata": {
        "colab_type": "text",
        "id": "Cd8VZM5POWXN"
      },
      "source": [
        "## Evaluating the Model Performance"
      ]
    },
    {
      "cell_type": "code",
      "execution_count": 8,
      "metadata": {
        "colab": {},
        "colab_type": "code",
        "id": "a7y1rXlfOZJo"
      },
      "outputs": [
        {
          "data": {
            "text/plain": [
              "0.971415607923654"
            ]
          },
          "execution_count": 8,
          "metadata": {},
          "output_type": "execute_result"
        }
      ],
      "source": [
        "from sklearn.metrics import r2_score\n",
        "r2_score(y_test, y_pred)"
      ]
    }
  ],
  "metadata": {
    "colab": {
      "collapsed_sections": [],
      "name": "random_forest_regression.ipynb",
      "provenance": [],
      "toc_visible": true
    },
    "kernelspec": {
      "display_name": "Python 3",
      "name": "python3"
    },
    "language_info": {
      "codemirror_mode": {
        "name": "ipython",
        "version": 3
      },
      "file_extension": ".py",
      "mimetype": "text/x-python",
      "name": "python",
      "nbconvert_exporter": "python",
      "pygments_lexer": "ipython3",
      "version": "3.8.9"
    }
  },
  "nbformat": 4,
  "nbformat_minor": 0
}
