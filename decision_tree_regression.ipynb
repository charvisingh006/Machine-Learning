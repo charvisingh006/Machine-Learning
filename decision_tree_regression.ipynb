{
  "cells": [
    {
      "cell_type": "markdown",
      "metadata": {
        "colab_type": "text",
        "id": "r3cas2_1T98w"
      },
      "source": [
        "# Decision Tree Regression"
      ]
    },
    {
      "cell_type": "markdown",
      "metadata": {
        "colab_type": "text",
        "id": "IODliia6U1xO"
      },
      "source": [
        "## Importing the libraries"
      ]
    },
    {
      "cell_type": "code",
      "execution_count": 1,
      "metadata": {
        "colab": {},
        "colab_type": "code",
        "id": "y98nA5UdU6Hf"
      },
      "outputs": [],
      "source": [
        "import numpy as np\n",
        "import matplotlib.pyplot as plt\n",
        "import pandas as pd"
      ]
    },
    {
      "cell_type": "markdown",
      "metadata": {
        "colab_type": "text",
        "id": "jpjZ43YlU8eI"
      },
      "source": [
        "## Importing the dataset"
      ]
    },
    {
      "cell_type": "code",
      "execution_count": 2,
      "metadata": {
        "colab": {},
        "colab_type": "code",
        "id": "pLVaXoYVU_Uy"
      },
      "outputs": [],
      "source": [
        "dataset = pd.read_csv(r'C:\\Users\\admin\\Documents\\train_energy_data.csv')\n",
        "X = dataset.iloc[:, :-1].values\n",
        "y = dataset.iloc[:, -1].values"
      ]
    },
    {
      "cell_type": "code",
      "execution_count": 3,
      "metadata": {},
      "outputs": [],
      "source": [
        "from sklearn.compose import ColumnTransformer\n",
        "from sklearn.preprocessing import OneHotEncoder\n",
        "\n",
        "#Let's create object for encoding\n",
        "\n",
        "ct  = ColumnTransformer(transformers=[('encoder', OneHotEncoder(), [0,5])], remainder= 'passthrough')\n",
        "X = np.array(ct.fit_transform(X))"
      ]
    },
    {
      "cell_type": "markdown",
      "metadata": {
        "colab_type": "text",
        "id": "tPJXMyyUJbWn"
      },
      "source": [
        "## Splitting the dataset into the Training set and Test set"
      ]
    },
    {
      "cell_type": "code",
      "execution_count": 4,
      "metadata": {
        "colab": {},
        "colab_type": "code",
        "id": "rFOzpjaiJd5B"
      },
      "outputs": [],
      "source": [
        "from sklearn.model_selection import train_test_split\n",
        "X_train, X_test, y_train, y_test = train_test_split(X, y, test_size = 0.2, random_state = 0)"
      ]
    },
    {
      "cell_type": "markdown",
      "metadata": {
        "colab_type": "text",
        "id": "g16qFkFQVC35"
      },
      "source": [
        "## Training the Decision Tree Regression model on the Training set"
      ]
    },
    {
      "cell_type": "code",
      "execution_count": 5,
      "metadata": {
        "colab": {},
        "colab_type": "code",
        "id": "SLDKyv1SVUqS"
      },
      "outputs": [
        {
          "data": {
            "text/html": [
              "<style>#sk-container-id-1 {color: black;}#sk-container-id-1 pre{padding: 0;}#sk-container-id-1 div.sk-toggleable {background-color: white;}#sk-container-id-1 label.sk-toggleable__label {cursor: pointer;display: block;width: 100%;margin-bottom: 0;padding: 0.3em;box-sizing: border-box;text-align: center;}#sk-container-id-1 label.sk-toggleable__label-arrow:before {content: \"▸\";float: left;margin-right: 0.25em;color: #696969;}#sk-container-id-1 label.sk-toggleable__label-arrow:hover:before {color: black;}#sk-container-id-1 div.sk-estimator:hover label.sk-toggleable__label-arrow:before {color: black;}#sk-container-id-1 div.sk-toggleable__content {max-height: 0;max-width: 0;overflow: hidden;text-align: left;background-color: #f0f8ff;}#sk-container-id-1 div.sk-toggleable__content pre {margin: 0.2em;color: black;border-radius: 0.25em;background-color: #f0f8ff;}#sk-container-id-1 input.sk-toggleable__control:checked~div.sk-toggleable__content {max-height: 200px;max-width: 100%;overflow: auto;}#sk-container-id-1 input.sk-toggleable__control:checked~label.sk-toggleable__label-arrow:before {content: \"▾\";}#sk-container-id-1 div.sk-estimator input.sk-toggleable__control:checked~label.sk-toggleable__label {background-color: #d4ebff;}#sk-container-id-1 div.sk-label input.sk-toggleable__control:checked~label.sk-toggleable__label {background-color: #d4ebff;}#sk-container-id-1 input.sk-hidden--visually {border: 0;clip: rect(1px 1px 1px 1px);clip: rect(1px, 1px, 1px, 1px);height: 1px;margin: -1px;overflow: hidden;padding: 0;position: absolute;width: 1px;}#sk-container-id-1 div.sk-estimator {font-family: monospace;background-color: #f0f8ff;border: 1px dotted black;border-radius: 0.25em;box-sizing: border-box;margin-bottom: 0.5em;}#sk-container-id-1 div.sk-estimator:hover {background-color: #d4ebff;}#sk-container-id-1 div.sk-parallel-item::after {content: \"\";width: 100%;border-bottom: 1px solid gray;flex-grow: 1;}#sk-container-id-1 div.sk-label:hover label.sk-toggleable__label {background-color: #d4ebff;}#sk-container-id-1 div.sk-serial::before {content: \"\";position: absolute;border-left: 1px solid gray;box-sizing: border-box;top: 0;bottom: 0;left: 50%;z-index: 0;}#sk-container-id-1 div.sk-serial {display: flex;flex-direction: column;align-items: center;background-color: white;padding-right: 0.2em;padding-left: 0.2em;position: relative;}#sk-container-id-1 div.sk-item {position: relative;z-index: 1;}#sk-container-id-1 div.sk-parallel {display: flex;align-items: stretch;justify-content: center;background-color: white;position: relative;}#sk-container-id-1 div.sk-item::before, #sk-container-id-1 div.sk-parallel-item::before {content: \"\";position: absolute;border-left: 1px solid gray;box-sizing: border-box;top: 0;bottom: 0;left: 50%;z-index: -1;}#sk-container-id-1 div.sk-parallel-item {display: flex;flex-direction: column;z-index: 1;position: relative;background-color: white;}#sk-container-id-1 div.sk-parallel-item:first-child::after {align-self: flex-end;width: 50%;}#sk-container-id-1 div.sk-parallel-item:last-child::after {align-self: flex-start;width: 50%;}#sk-container-id-1 div.sk-parallel-item:only-child::after {width: 0;}#sk-container-id-1 div.sk-dashed-wrapped {border: 1px dashed gray;margin: 0 0.4em 0.5em 0.4em;box-sizing: border-box;padding-bottom: 0.4em;background-color: white;}#sk-container-id-1 div.sk-label label {font-family: monospace;font-weight: bold;display: inline-block;line-height: 1.2em;}#sk-container-id-1 div.sk-label-container {text-align: center;}#sk-container-id-1 div.sk-container {/* jupyter's `normalize.less` sets `[hidden] { display: none; }` but bootstrap.min.css set `[hidden] { display: none !important; }` so we also need the `!important` here to be able to override the default hidden behavior on the sphinx rendered scikit-learn.org. See: https://github.com/scikit-learn/scikit-learn/issues/21755 */display: inline-block !important;position: relative;}#sk-container-id-1 div.sk-text-repr-fallback {display: none;}</style><div id=\"sk-container-id-1\" class=\"sk-top-container\"><div class=\"sk-text-repr-fallback\"><pre>DecisionTreeRegressor(random_state=0)</pre><b>In a Jupyter environment, please rerun this cell to show the HTML representation or trust the notebook. <br />On GitHub, the HTML representation is unable to render, please try loading this page with nbviewer.org.</b></div><div class=\"sk-container\" hidden><div class=\"sk-item\"><div class=\"sk-estimator sk-toggleable\"><input class=\"sk-toggleable__control sk-hidden--visually\" id=\"sk-estimator-id-1\" type=\"checkbox\" checked><label for=\"sk-estimator-id-1\" class=\"sk-toggleable__label sk-toggleable__label-arrow\">DecisionTreeRegressor</label><div class=\"sk-toggleable__content\"><pre>DecisionTreeRegressor(random_state=0)</pre></div></div></div></div></div>"
            ],
            "text/plain": [
              "DecisionTreeRegressor(random_state=0)"
            ]
          },
          "execution_count": 5,
          "metadata": {},
          "output_type": "execute_result"
        }
      ],
      "source": [
        "from sklearn.tree import DecisionTreeRegressor\n",
        "regressor = DecisionTreeRegressor(random_state = 0)\n",
        "regressor.fit(X_train, y_train)"
      ]
    },
    {
      "cell_type": "markdown",
      "metadata": {
        "colab_type": "text",
        "id": "Nao9cdO6IgNb"
      },
      "source": [
        "## Predicting the Test set results"
      ]
    },
    {
      "cell_type": "code",
      "execution_count": 6,
      "metadata": {
        "colab": {},
        "colab_type": "code",
        "id": "EebHA3EOIkQK"
      },
      "outputs": [
        {
          "name": "stdout",
          "output_type": "stream",
          "text": [
            "[[3471.43 2883.63]\n",
            " [5132.23 5147.11]\n",
            " [4999.76 5332.1 ]\n",
            " [3168.71 3027.78]\n",
            " [4354.25 4254.59]\n",
            " [5227.37 4983.  ]\n",
            " [5693.96 5754.96]\n",
            " [4828.19 4693.8 ]\n",
            " [5038.34 5101.13]\n",
            " [5003.05 5268.16]\n",
            " [3872.54 3776.21]\n",
            " [3792.47 3598.99]\n",
            " [3168.71 2921.01]\n",
            " [3510.52 3859.59]\n",
            " [5794.83 5744.86]\n",
            " [5245.78 5505.97]\n",
            " [3792.47 3408.98]\n",
            " [3419.13 3639.76]\n",
            " [4584.62 5031.14]\n",
            " [4828.19 4745.47]\n",
            " [4642.27 4700.42]\n",
            " [4494.99 4650.7 ]\n",
            " [3753.31 3631.08]\n",
            " [5212.64 4969.79]\n",
            " [5017.45 5088.21]\n",
            " [3566.01 3314.91]\n",
            " [4026.33 4430.49]\n",
            " [2499.   2656.26]\n",
            " [6028.93 5877.19]\n",
            " [5319.27 5744.99]\n",
            " [5422.98 5390.76]\n",
            " [4258.49 4417.34]\n",
            " [4464.55 4498.07]\n",
            " [3508.32 3818.71]\n",
            " [2726.13 2619.36]\n",
            " [3580.93 3377.38]\n",
            " [3078.96 2815.34]\n",
            " [6493.48 5961.49]\n",
            " [3570.31 3525.66]\n",
            " [3386.72 3093.71]\n",
            " [4104.1  4034.64]\n",
            " [3563.67 3546.34]\n",
            " [4011.58 3937.59]\n",
            " [4251.16 3952.58]\n",
            " [2728.63 2755.75]\n",
            " [3593.42 3630.24]\n",
            " [3798.62 3653.25]\n",
            " [3665.55 3435.18]\n",
            " [3322.79 3109.29]\n",
            " [4874.53 5290.06]\n",
            " [5473.33 5590.7 ]\n",
            " [4798.68 5080.4 ]\n",
            " [3765.06 3750.37]\n",
            " [3844.62 3985.8 ]\n",
            " [4116.32 4235.19]\n",
            " [5319.27 5634.35]\n",
            " [4988.44 4950.15]\n",
            " [4265.97 4683.  ]\n",
            " [4798.25 4531.32]\n",
            " [5329.97 5338.17]\n",
            " [4993.7  4075.67]\n",
            " [4727.81 4684.93]\n",
            " [3708.08 3536.81]\n",
            " [4265.97 4576.47]\n",
            " [4852.28 5023.85]\n",
            " [4852.28 4900.84]\n",
            " [4116.88 3883.46]\n",
            " [4516.02 4306.74]\n",
            " [2170.7  1683.95]\n",
            " [3778.19 3751.05]\n",
            " [4566.41 4684.16]\n",
            " [5038.34 5247.04]\n",
            " [5358.22 5781.83]\n",
            " [5228.59 5369.95]\n",
            " [2342.32 2478.55]\n",
            " [3897.02 4099.62]\n",
            " [3765.06 4172.54]\n",
            " [4785.27 5050.37]\n",
            " [4448.42 4749.64]\n",
            " [3901.38 3816.15]\n",
            " [6047.23 5842.72]\n",
            " [3558.78 3534.74]\n",
            " [3708.08 3601.86]\n",
            " [5017.45 5040.46]\n",
            " [5206.34 5063.9 ]\n",
            " [3514.09 3249.36]\n",
            " [3241.57 3253.47]\n",
            " [3867.85 3965.87]\n",
            " [3798.62 3609.75]\n",
            " [5868.84 5646.19]\n",
            " [3101.02 3127.07]\n",
            " [4073.01 4002.72]\n",
            " [3719.19 3715.45]\n",
            " [3409.14 3435.21]\n",
            " [3525.79 3733.52]\n",
            " [3761.75 3395.45]\n",
            " [4126.84 3578.29]\n",
            " [4354.25 4246.55]\n",
            " [4637.71 4271.39]\n",
            " [4371.38 4612.22]\n",
            " [4036.12 4090.41]\n",
            " [4934.8  4956.67]\n",
            " [4339.55 4307.72]\n",
            " [5003.05 5359.1 ]\n",
            " [3565.7  3663.21]\n",
            " [5272.05 5329.29]\n",
            " [5017.45 5054.19]\n",
            " [3519.56 3487.69]\n",
            " [4640.78 4748.66]\n",
            " [5168.99 4710.15]\n",
            " [2996.99 2961.76]\n",
            " [3985.45 4085.95]\n",
            " [2788.49 2735.63]\n",
            " [3279.51 3601.83]\n",
            " [3064.11 2752.62]\n",
            " [4852.28 5082.68]\n",
            " [5048.34 5177.22]\n",
            " [3509.87 3689.04]\n",
            " [2684.98 2475.76]\n",
            " [3371.6  3314.12]\n",
            " [3066.15 3304.91]\n",
            " [3549.48 3249.48]\n",
            " [3171.27 3744.59]\n",
            " [4616.98 4443.15]\n",
            " [3833.81 4027.56]\n",
            " [2875.48 2696.49]\n",
            " [5542.74 5607.7 ]\n",
            " [4298.92 4561.71]\n",
            " [4413.74 4351.81]\n",
            " [2614.4  2660.28]\n",
            " [3850.11 3953.1 ]\n",
            " [4408.36 4698.47]\n",
            " [5017.45 5037.86]\n",
            " [3947.61 3900.33]\n",
            " [5662.27 5327.65]\n",
            " [4736.14 4957.36]\n",
            " [4643.49 4302.81]\n",
            " [5474.72 5841.65]\n",
            " [5219.66 4876.08]\n",
            " [2872.63 3290.94]\n",
            " [3791.04 3796.71]\n",
            " [2972.61 2622.38]\n",
            " [3916.46 4214.3 ]\n",
            " [4674.31 5018.25]\n",
            " [6041.7  6383.5 ]\n",
            " [4251.16 4218.29]\n",
            " [3967.63 3701.68]\n",
            " [4481.81 4213.66]\n",
            " [2605.98 2417.11]\n",
            " [2457.6  2205.2 ]\n",
            " [5633.76 5660.75]\n",
            " [4114.7  4230.09]\n",
            " [4524.49 4543.67]\n",
            " [4638.97 4460.84]\n",
            " [4114.45 4211.11]\n",
            " [6228.54 6458.51]\n",
            " [2433.47 2241.96]\n",
            " [2870.44 2862.17]\n",
            " [4516.31 4601.21]\n",
            " [2769.99 3057.53]\n",
            " [5319.27 5862.82]\n",
            " [3010.22 2683.73]\n",
            " [3202.5  3372.2 ]\n",
            " [3396.51 3196.17]\n",
            " [3439.34 3546.62]\n",
            " [4722.9  4854.25]\n",
            " [2924.87 3103.65]\n",
            " [4779.18 4796.83]\n",
            " [4963.62 4787.64]\n",
            " [5633.76 5866.63]\n",
            " [5753.93 5669.86]\n",
            " [4251.16 4102.94]\n",
            " [3141.67 3148.79]\n",
            " [4692.24 4813.61]\n",
            " [3012.32 2744.38]\n",
            " [3927.94 3655.82]\n",
            " [5473.98 5164.94]\n",
            " [2602.69 2500.56]\n",
            " [3214.88 3372.41]\n",
            " [5096.3  4922.36]\n",
            " [3882.94 3838.73]\n",
            " [3557.61 3423.63]\n",
            " [5206.34 5260.26]\n",
            " [2556.63 2137.35]\n",
            " [5147.4  4979.87]\n",
            " [3437.1  3773.61]\n",
            " [3563.67 3602.33]\n",
            " [2769.99 2811.68]\n",
            " [2906.57 3140.2 ]\n",
            " [4230.79 4195.75]\n",
            " [3510.52 3571.76]\n",
            " [3701.39 3388.25]\n",
            " [5249.84 4947.78]\n",
            " [4773.54 4687.67]\n",
            " [4483.83 4377.04]\n",
            " [4658.38 4314.56]\n",
            " [5206.34 5438.11]\n",
            " [4634.34 4600.3 ]\n",
            " [4516.31 4518.12]\n",
            " [4849.54 4805.22]]\n"
          ]
        }
      ],
      "source": [
        "y_pred = regressor.predict(X_test)\n",
        "np.set_printoptions(precision=2)\n",
        "print(np.concatenate((y_pred.reshape(len(y_pred),1), y_test.reshape(len(y_test),1)),1))"
      ]
    },
    {
      "cell_type": "markdown",
      "metadata": {
        "colab_type": "text",
        "id": "V4nELFnnIod1"
      },
      "source": [
        "## Evaluating the Model Performance"
      ]
    },
    {
      "cell_type": "code",
      "execution_count": 7,
      "metadata": {
        "colab": {},
        "colab_type": "code",
        "id": "_G2QS1UoIsTZ"
      },
      "outputs": [
        {
          "data": {
            "text/plain": [
              "0.9398362286574494"
            ]
          },
          "execution_count": 7,
          "metadata": {},
          "output_type": "execute_result"
        }
      ],
      "source": [
        "from sklearn.metrics import r2_score\n",
        "r2_score(y_test, y_pred)"
      ]
    }
  ],
  "metadata": {
    "colab": {
      "collapsed_sections": [],
      "name": "decision_tree_regression.ipynb",
      "provenance": [],
      "toc_visible": true
    },
    "kernelspec": {
      "display_name": "Python 3",
      "name": "python3"
    },
    "language_info": {
      "codemirror_mode": {
        "name": "ipython",
        "version": 3
      },
      "file_extension": ".py",
      "mimetype": "text/x-python",
      "name": "python",
      "nbconvert_exporter": "python",
      "pygments_lexer": "ipython3",
      "version": "3.8.9"
    }
  },
  "nbformat": 4,
  "nbformat_minor": 0
}
