{
  "cells": [
    {
      "cell_type": "markdown",
      "metadata": {
        "colab_type": "text",
        "id": "CazISR8X_HUG"
      },
      "source": [
        "# Multiple Linear Regression"
      ]
    },
    {
      "cell_type": "markdown",
      "metadata": {
        "colab_type": "text",
        "id": "pOyqYHTk_Q57"
      },
      "source": [
        "## Importing the libraries"
      ]
    },
    {
      "cell_type": "code",
      "execution_count": 1,
      "metadata": {
        "colab": {},
        "colab_type": "code",
        "id": "T_YHJjnD_Tja"
      },
      "outputs": [],
      "source": [
        "import numpy as np\n",
        "import matplotlib.pyplot as plt\n",
        "import pandas as pd"
      ]
    },
    {
      "cell_type": "markdown",
      "metadata": {
        "colab_type": "text",
        "id": "vgC61-ah_WIz"
      },
      "source": [
        "## Importing the dataset"
      ]
    },
    {
      "cell_type": "code",
      "execution_count": 2,
      "metadata": {
        "colab": {},
        "colab_type": "code",
        "id": "UrxyEKGn_ez7"
      },
      "outputs": [],
      "source": [
        "df = pd.read_csv(r\"train_energy_data.csv\")\n",
        "X = df.iloc[:, :-1].values\n",
        "y = df.iloc[:, -1].values"
      ]
    },
    {
      "cell_type": "code",
      "execution_count": 3,
      "metadata": {},
      "outputs": [
        {
          "name": "stdout",
          "output_type": "stream",
          "text": [
            "[['Residential' 7063 76 10 29.84 'Weekday']\n",
            " ['Commercial' 44372 66 45 16.72 'Weekday']\n",
            " ['Industrial' 19255 37 17 14.3 'Weekend']\n",
            " ...\n",
            " ['Commercial' 39562 88 20 32.18 'Weekday']\n",
            " ['Residential' 8348 67 37 16.48 'Weekend']\n",
            " ['Commercial' 15813 57 11 31.4 'Weekend']]\n"
          ]
        }
      ],
      "source": [
        "print(X)"
      ]
    },
    {
      "cell_type": "code",
      "execution_count": 5,
      "metadata": {},
      "outputs": [],
      "source": [
        "from sklearn.compose import ColumnTransformer\n",
        "from sklearn.preprocessing import OneHotEncoder\n",
        "\n",
        "#Let's create object for encoding\n",
        "\n",
        "ct  = ColumnTransformer(transformers=[('encoder', OneHotEncoder(), [0,5])], remainder= 'passthrough')\n",
        "X = np.array(ct.fit_transform(X))"
      ]
    },
    {
      "cell_type": "code",
      "execution_count": 6,
      "metadata": {},
      "outputs": [
        {
          "name": "stdout",
          "output_type": "stream",
          "text": [
            "[[0.0 0.0 1.0 ... 76 10 29.84]\n",
            " [1.0 0.0 0.0 ... 66 45 16.72]\n",
            " [0.0 1.0 0.0 ... 37 17 14.3]\n",
            " ...\n",
            " [1.0 0.0 0.0 ... 88 20 32.18]\n",
            " [0.0 0.0 1.0 ... 67 37 16.48]\n",
            " [1.0 0.0 0.0 ... 57 11 31.4]]\n"
          ]
        }
      ],
      "source": [
        "print(X)"
      ]
    },
    {
      "cell_type": "markdown",
      "metadata": {
        "colab_type": "text",
        "id": "WemVnqgeA70k"
      },
      "source": [
        "## Splitting the dataset into the Training set and Test set"
      ]
    },
    {
      "cell_type": "code",
      "execution_count": 7,
      "metadata": {
        "colab": {},
        "colab_type": "code",
        "id": "Kb_v_ae-A-20"
      },
      "outputs": [],
      "source": [
        "from sklearn.model_selection import train_test_split\n",
        "X_train, X_test, y_train, y_test = train_test_split(X, y, test_size = 0.2, random_state = 0)"
      ]
    },
    {
      "cell_type": "code",
      "execution_count": 8,
      "metadata": {},
      "outputs": [
        {
          "name": "stdout",
          "output_type": "stream",
          "text": [
            "[[0.0 0.0 1.0 ... 14 23 26.61]\n",
            " [1.0 0.0 0.0 ... 99 11 30.78]\n",
            " [0.0 0.0 1.0 ... 50 23 23.8]\n",
            " ...\n",
            " [0.0 0.0 1.0 ... 66 8 10.16]\n",
            " [0.0 0.0 1.0 ... 98 36 29.52]\n",
            " [0.0 0.0 1.0 ... 12 44 10.73]]\n"
          ]
        }
      ],
      "source": [
        "print(X_train)"
      ]
    },
    {
      "cell_type": "markdown",
      "metadata": {
        "colab_type": "text",
        "id": "k-McZVsQBINc"
      },
      "source": [
        "## Training the Multiple Linear Regression model on the Training set"
      ]
    },
    {
      "cell_type": "code",
      "execution_count": 9,
      "metadata": {
        "colab": {},
        "colab_type": "code",
        "id": "ywPjx0L1BMiD"
      },
      "outputs": [
        {
          "data": {
            "text/html": [
              "<style>#sk-container-id-1 {color: black;}#sk-container-id-1 pre{padding: 0;}#sk-container-id-1 div.sk-toggleable {background-color: white;}#sk-container-id-1 label.sk-toggleable__label {cursor: pointer;display: block;width: 100%;margin-bottom: 0;padding: 0.3em;box-sizing: border-box;text-align: center;}#sk-container-id-1 label.sk-toggleable__label-arrow:before {content: \"▸\";float: left;margin-right: 0.25em;color: #696969;}#sk-container-id-1 label.sk-toggleable__label-arrow:hover:before {color: black;}#sk-container-id-1 div.sk-estimator:hover label.sk-toggleable__label-arrow:before {color: black;}#sk-container-id-1 div.sk-toggleable__content {max-height: 0;max-width: 0;overflow: hidden;text-align: left;background-color: #f0f8ff;}#sk-container-id-1 div.sk-toggleable__content pre {margin: 0.2em;color: black;border-radius: 0.25em;background-color: #f0f8ff;}#sk-container-id-1 input.sk-toggleable__control:checked~div.sk-toggleable__content {max-height: 200px;max-width: 100%;overflow: auto;}#sk-container-id-1 input.sk-toggleable__control:checked~label.sk-toggleable__label-arrow:before {content: \"▾\";}#sk-container-id-1 div.sk-estimator input.sk-toggleable__control:checked~label.sk-toggleable__label {background-color: #d4ebff;}#sk-container-id-1 div.sk-label input.sk-toggleable__control:checked~label.sk-toggleable__label {background-color: #d4ebff;}#sk-container-id-1 input.sk-hidden--visually {border: 0;clip: rect(1px 1px 1px 1px);clip: rect(1px, 1px, 1px, 1px);height: 1px;margin: -1px;overflow: hidden;padding: 0;position: absolute;width: 1px;}#sk-container-id-1 div.sk-estimator {font-family: monospace;background-color: #f0f8ff;border: 1px dotted black;border-radius: 0.25em;box-sizing: border-box;margin-bottom: 0.5em;}#sk-container-id-1 div.sk-estimator:hover {background-color: #d4ebff;}#sk-container-id-1 div.sk-parallel-item::after {content: \"\";width: 100%;border-bottom: 1px solid gray;flex-grow: 1;}#sk-container-id-1 div.sk-label:hover label.sk-toggleable__label {background-color: #d4ebff;}#sk-container-id-1 div.sk-serial::before {content: \"\";position: absolute;border-left: 1px solid gray;box-sizing: border-box;top: 0;bottom: 0;left: 50%;z-index: 0;}#sk-container-id-1 div.sk-serial {display: flex;flex-direction: column;align-items: center;background-color: white;padding-right: 0.2em;padding-left: 0.2em;position: relative;}#sk-container-id-1 div.sk-item {position: relative;z-index: 1;}#sk-container-id-1 div.sk-parallel {display: flex;align-items: stretch;justify-content: center;background-color: white;position: relative;}#sk-container-id-1 div.sk-item::before, #sk-container-id-1 div.sk-parallel-item::before {content: \"\";position: absolute;border-left: 1px solid gray;box-sizing: border-box;top: 0;bottom: 0;left: 50%;z-index: -1;}#sk-container-id-1 div.sk-parallel-item {display: flex;flex-direction: column;z-index: 1;position: relative;background-color: white;}#sk-container-id-1 div.sk-parallel-item:first-child::after {align-self: flex-end;width: 50%;}#sk-container-id-1 div.sk-parallel-item:last-child::after {align-self: flex-start;width: 50%;}#sk-container-id-1 div.sk-parallel-item:only-child::after {width: 0;}#sk-container-id-1 div.sk-dashed-wrapped {border: 1px dashed gray;margin: 0 0.4em 0.5em 0.4em;box-sizing: border-box;padding-bottom: 0.4em;background-color: white;}#sk-container-id-1 div.sk-label label {font-family: monospace;font-weight: bold;display: inline-block;line-height: 1.2em;}#sk-container-id-1 div.sk-label-container {text-align: center;}#sk-container-id-1 div.sk-container {/* jupyter's `normalize.less` sets `[hidden] { display: none; }` but bootstrap.min.css set `[hidden] { display: none !important; }` so we also need the `!important` here to be able to override the default hidden behavior on the sphinx rendered scikit-learn.org. See: https://github.com/scikit-learn/scikit-learn/issues/21755 */display: inline-block !important;position: relative;}#sk-container-id-1 div.sk-text-repr-fallback {display: none;}</style><div id=\"sk-container-id-1\" class=\"sk-top-container\"><div class=\"sk-text-repr-fallback\"><pre>LinearRegression()</pre><b>In a Jupyter environment, please rerun this cell to show the HTML representation or trust the notebook. <br />On GitHub, the HTML representation is unable to render, please try loading this page with nbviewer.org.</b></div><div class=\"sk-container\" hidden><div class=\"sk-item\"><div class=\"sk-estimator sk-toggleable\"><input class=\"sk-toggleable__control sk-hidden--visually\" id=\"sk-estimator-id-1\" type=\"checkbox\" checked><label for=\"sk-estimator-id-1\" class=\"sk-toggleable__label sk-toggleable__label-arrow\">LinearRegression</label><div class=\"sk-toggleable__content\"><pre>LinearRegression()</pre></div></div></div></div></div>"
            ],
            "text/plain": [
              "LinearRegression()"
            ]
          },
          "execution_count": 9,
          "metadata": {},
          "output_type": "execute_result"
        }
      ],
      "source": [
        "from sklearn.linear_model import LinearRegression\n",
        "regressor = LinearRegression()\n",
        "regressor.fit(X_train, y_train)"
      ]
    },
    {
      "cell_type": "markdown",
      "metadata": {
        "colab_type": "text",
        "id": "xNkXL1YQBiBT"
      },
      "source": [
        "## Predicting the Test set results"
      ]
    },
    {
      "cell_type": "code",
      "execution_count": 10,
      "metadata": {
        "colab": {},
        "colab_type": "code",
        "id": "TQKmwvtdBkyb"
      },
      "outputs": [
        {
          "name": "stdout",
          "output_type": "stream",
          "text": [
            "[[2883.65 2883.63]\n",
            " [5147.1  5147.11]\n",
            " [5332.1  5332.1 ]\n",
            " [3027.8  3027.78]\n",
            " [4254.6  4254.59]\n",
            " [4983.   4983.  ]\n",
            " [5754.95 5754.96]\n",
            " [4693.8  4693.8 ]\n",
            " [5101.15 5101.13]\n",
            " [5268.15 5268.16]\n",
            " [3776.2  3776.21]\n",
            " [3599.   3598.99]\n",
            " [2921.   2921.01]\n",
            " [3859.6  3859.59]\n",
            " [5744.85 5744.86]\n",
            " [5505.95 5505.97]\n",
            " [3409.   3408.98]\n",
            " [3639.75 3639.76]\n",
            " [5031.15 5031.14]\n",
            " [4745.45 4745.47]\n",
            " [4700.4  4700.42]\n",
            " [4650.7  4650.7 ]\n",
            " [3631.1  3631.08]\n",
            " [4969.8  4969.79]\n",
            " [5088.2  5088.21]\n",
            " [3314.9  3314.91]\n",
            " [4430.5  4430.49]\n",
            " [2656.25 2656.26]\n",
            " [5877.2  5877.19]\n",
            " [5745.   5744.99]\n",
            " [5390.75 5390.76]\n",
            " [4417.35 4417.34]\n",
            " [4498.05 4498.07]\n",
            " [3818.7  3818.71]\n",
            " [2619.35 2619.36]\n",
            " [3377.4  3377.38]\n",
            " [2815.35 2815.34]\n",
            " [5961.5  5961.49]\n",
            " [3525.65 3525.66]\n",
            " [3093.7  3093.71]\n",
            " [4034.65 4034.64]\n",
            " [3546.35 3546.34]\n",
            " [3937.6  3937.59]\n",
            " [3952.6  3952.58]\n",
            " [2755.75 2755.75]\n",
            " [3630.25 3630.24]\n",
            " [3653.25 3653.25]\n",
            " [3435.2  3435.18]\n",
            " [3109.3  3109.29]\n",
            " [5290.05 5290.06]\n",
            " [5590.7  5590.7 ]\n",
            " [5080.4  5080.4 ]\n",
            " [3750.35 3750.37]\n",
            " [3985.8  3985.8 ]\n",
            " [4235.2  4235.19]\n",
            " [5634.35 5634.35]\n",
            " [4950.15 4950.15]\n",
            " [4683.   4683.  ]\n",
            " [4531.3  4531.32]\n",
            " [5338.15 5338.17]\n",
            " [4075.65 4075.67]\n",
            " [4684.95 4684.93]\n",
            " [3536.8  3536.81]\n",
            " [4576.45 4576.47]\n",
            " [5023.85 5023.85]\n",
            " [4900.85 4900.84]\n",
            " [3883.45 3883.46]\n",
            " [4306.75 4306.74]\n",
            " [1683.95 1683.95]\n",
            " [3751.05 3751.05]\n",
            " [4684.15 4684.16]\n",
            " [5247.05 5247.04]\n",
            " [5781.85 5781.83]\n",
            " [5369.95 5369.95]\n",
            " [2478.55 2478.55]\n",
            " [4099.6  4099.62]\n",
            " [4172.55 4172.54]\n",
            " [5050.35 5050.37]\n",
            " [4749.65 4749.64]\n",
            " [3816.15 3816.15]\n",
            " [5842.7  5842.72]\n",
            " [3534.75 3534.74]\n",
            " [3601.85 3601.86]\n",
            " [5040.45 5040.46]\n",
            " [5063.9  5063.9 ]\n",
            " [3249.35 3249.36]\n",
            " [3253.45 3253.47]\n",
            " [3965.85 3965.87]\n",
            " [3609.75 3609.75]\n",
            " [5646.2  5646.19]\n",
            " [3127.05 3127.07]\n",
            " [4002.7  4002.72]\n",
            " [3715.45 3715.45]\n",
            " [3435.2  3435.21]\n",
            " [3733.5  3733.52]\n",
            " [3395.45 3395.45]\n",
            " [3578.3  3578.29]\n",
            " [4246.55 4246.55]\n",
            " [4271.4  4271.39]\n",
            " [4612.2  4612.22]\n",
            " [4090.4  4090.41]\n",
            " [4956.65 4956.67]\n",
            " [4307.7  4307.72]\n",
            " [5359.1  5359.1 ]\n",
            " [3663.2  3663.21]\n",
            " [5329.3  5329.29]\n",
            " [5054.2  5054.19]\n",
            " [3487.7  3487.69]\n",
            " [4748.65 4748.66]\n",
            " [4710.15 4710.15]\n",
            " [2961.75 2961.76]\n",
            " [4085.95 4085.95]\n",
            " [2735.65 2735.63]\n",
            " [3601.85 3601.83]\n",
            " [2752.6  2752.62]\n",
            " [5082.7  5082.68]\n",
            " [5177.2  5177.22]\n",
            " [3689.05 3689.04]\n",
            " [2475.75 2475.76]\n",
            " [3314.1  3314.12]\n",
            " [3304.9  3304.91]\n",
            " [3249.5  3249.48]\n",
            " [3744.6  3744.59]\n",
            " [4443.15 4443.15]\n",
            " [4027.55 4027.56]\n",
            " [2696.5  2696.49]\n",
            " [5607.7  5607.7 ]\n",
            " [4561.7  4561.71]\n",
            " [4351.8  4351.81]\n",
            " [2660.3  2660.28]\n",
            " [3953.1  3953.1 ]\n",
            " [4698.45 4698.47]\n",
            " [5037.85 5037.86]\n",
            " [3900.35 3900.33]\n",
            " [5327.65 5327.65]\n",
            " [4957.35 4957.36]\n",
            " [4302.8  4302.81]\n",
            " [5841.65 5841.65]\n",
            " [4876.1  4876.08]\n",
            " [3290.95 3290.94]\n",
            " [3796.7  3796.71]\n",
            " [2622.4  2622.38]\n",
            " [4214.3  4214.3 ]\n",
            " [5018.25 5018.25]\n",
            " [6383.5  6383.5 ]\n",
            " [4218.3  4218.29]\n",
            " [3701.7  3701.68]\n",
            " [4213.65 4213.66]\n",
            " [2417.1  2417.11]\n",
            " [2205.2  2205.2 ]\n",
            " [5660.75 5660.75]\n",
            " [4230.1  4230.09]\n",
            " [4543.65 4543.67]\n",
            " [4460.85 4460.84]\n",
            " [4211.1  4211.11]\n",
            " [6458.5  6458.51]\n",
            " [2241.95 2241.96]\n",
            " [2862.15 2862.17]\n",
            " [4601.2  4601.21]\n",
            " [3057.55 3057.53]\n",
            " [5862.8  5862.82]\n",
            " [2683.75 2683.73]\n",
            " [3372.2  3372.2 ]\n",
            " [3196.15 3196.17]\n",
            " [3546.6  3546.62]\n",
            " [4854.25 4854.25]\n",
            " [3103.65 3103.65]\n",
            " [4796.85 4796.83]\n",
            " [4787.65 4787.64]\n",
            " [5866.65 5866.63]\n",
            " [5669.85 5669.86]\n",
            " [4102.95 4102.94]\n",
            " [3148.8  3148.79]\n",
            " [4813.6  4813.61]\n",
            " [2744.4  2744.38]\n",
            " [3655.8  3655.82]\n",
            " [5164.95 5164.94]\n",
            " [2500.55 2500.56]\n",
            " [3372.4  3372.41]\n",
            " [4922.35 4922.36]\n",
            " [3838.75 3838.73]\n",
            " [3423.65 3423.63]\n",
            " [5260.25 5260.26]\n",
            " [2137.35 2137.35]\n",
            " [4979.85 4979.87]\n",
            " [3773.6  3773.61]\n",
            " [3602.35 3602.33]\n",
            " [2811.7  2811.68]\n",
            " [3140.2  3140.2 ]\n",
            " [4195.75 4195.75]\n",
            " [3571.75 3571.76]\n",
            " [3388.25 3388.25]\n",
            " [4947.8  4947.78]\n",
            " [4687.65 4687.67]\n",
            " [4377.05 4377.04]\n",
            " [4314.55 4314.56]\n",
            " [5438.1  5438.11]\n",
            " [4600.3  4600.3 ]\n",
            " [4518.1  4518.12]\n",
            " [4805.2  4805.22]]\n"
          ]
        }
      ],
      "source": [
        "y_pred = regressor.predict(X_test)\n",
        "np.set_printoptions(precision=2)\n",
        "print(np.concatenate((y_pred.reshape(len(y_pred),1), y_test.reshape(len(y_test),1)),1))"
      ]
    },
    {
      "cell_type": "markdown",
      "metadata": {
        "colab_type": "text",
        "id": "50DZZy0UyhLi"
      },
      "source": [
        "## Evaluating the Model Performance"
      ]
    },
    {
      "cell_type": "code",
      "execution_count": 11,
      "metadata": {
        "colab": {},
        "colab_type": "code",
        "id": "xPagAOKDywV4"
      },
      "outputs": [
        {
          "data": {
            "text/plain": [
              "0.9999999998119723"
            ]
          },
          "execution_count": 11,
          "metadata": {},
          "output_type": "execute_result"
        }
      ],
      "source": [
        "from sklearn.metrics import r2_score\n",
        "r2_score(y_test, y_pred)"
      ]
    }
  ],
  "metadata": {
    "colab": {
      "collapsed_sections": [],
      "name": "multiple_linear_regression.ipynb",
      "provenance": [],
      "toc_visible": true
    },
    "kernelspec": {
      "display_name": "Python 3",
      "name": "python3"
    },
    "language_info": {
      "codemirror_mode": {
        "name": "ipython",
        "version": 3
      },
      "file_extension": ".py",
      "mimetype": "text/x-python",
      "name": "python",
      "nbconvert_exporter": "python",
      "pygments_lexer": "ipython3",
      "version": "3.8.10"
    }
  },
  "nbformat": 4,
  "nbformat_minor": 0
}
