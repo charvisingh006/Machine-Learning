{
  "cells": [
    {
      "cell_type": "markdown",
      "metadata": {
        "id": "m3PAEPRDRLA3"
      },
      "source": [
        "# Support Vector Regression (SVR)"
      ]
    },
    {
      "cell_type": "markdown",
      "metadata": {
        "id": "0VCUAVIjRdzZ"
      },
      "source": [
        "## Importing the libraries"
      ]
    },
    {
      "cell_type": "code",
      "execution_count": 2,
      "metadata": {
        "id": "56oRF-QfSDzC"
      },
      "outputs": [],
      "source": [
        "import numpy as np\n",
        "import matplotlib.pyplot as plt\n",
        "import pandas as pd"
      ]
    },
    {
      "cell_type": "markdown",
      "metadata": {
        "id": "fXVXoFWtSF4_"
      },
      "source": [
        "## Importing the dataset"
      ]
    },
    {
      "cell_type": "code",
      "execution_count": 3,
      "metadata": {
        "id": "xfoa8OSORfHQ"
      },
      "outputs": [],
      "source": [
        "dataset = pd.read_csv(r'C:\\Users\\admin\\Documents\\train_energy_data.csv')\n",
        "X = dataset.iloc[:, :-1].values\n",
        "y = dataset.iloc[:, -1].values"
      ]
    },
    {
      "cell_type": "code",
      "execution_count": 4,
      "metadata": {
        "id": "_8Ny1GfPiV3m"
      },
      "outputs": [],
      "source": [
        "y = y.reshape(len(y),1)"
      ]
    },
    {
      "cell_type": "code",
      "execution_count": 5,
      "metadata": {},
      "outputs": [],
      "source": [
        "from sklearn.compose import ColumnTransformer\n",
        "from sklearn.preprocessing import OneHotEncoder\n",
        "\n",
        "#Let's create object for encoding\n",
        "\n",
        "ct  = ColumnTransformer(transformers=[('encoder', OneHotEncoder(), [0,5])], remainder= 'passthrough')\n",
        "X = np.array(ct.fit_transform(X))"
      ]
    },
    {
      "cell_type": "markdown",
      "metadata": {
        "id": "6Vk3nNlrCVCN"
      },
      "source": [
        "## Splitting the dataset into the Training set and Test set"
      ]
    },
    {
      "cell_type": "code",
      "execution_count": 6,
      "metadata": {
        "id": "x_fXqrziCV3_"
      },
      "outputs": [],
      "source": [
        "from sklearn.model_selection import train_test_split\n",
        "X_train, X_test, y_train, y_test = train_test_split(X, y, test_size = 0.2, random_state = 0)"
      ]
    },
    {
      "cell_type": "markdown",
      "metadata": {
        "id": "YS8FeLHYS-nI"
      },
      "source": [
        "## Feature Scaling"
      ]
    },
    {
      "cell_type": "code",
      "execution_count": 7,
      "metadata": {
        "id": "PGeAlD1HTDI1"
      },
      "outputs": [],
      "source": [
        "from sklearn.preprocessing import StandardScaler\n",
        "sc_X = StandardScaler()\n",
        "sc_y = StandardScaler()\n",
        "X_train = sc_X.fit_transform(X_train)\n",
        "y_train = sc_y.fit_transform(y_train)"
      ]
    },
    {
      "cell_type": "markdown",
      "metadata": {
        "id": "eiU6D2QFRjxY"
      },
      "source": [
        "## Training the SVR model on the Training set"
      ]
    },
    {
      "cell_type": "code",
      "execution_count": 8,
      "metadata": {
        "colab": {
          "base_uri": "https://localhost:8080/"
        },
        "id": "y6R4rt_GRz15",
        "outputId": "101e27f8-4437-4c06-e1a9-66d1f6ceb313"
      },
      "outputs": [
        {
          "name": "stderr",
          "output_type": "stream",
          "text": [
            "c:\\Users\\admin\\AppData\\Local\\Programs\\Python\\Python38\\lib\\site-packages\\sklearn\\utils\\validation.py:1183: DataConversionWarning: A column-vector y was passed when a 1d array was expected. Please change the shape of y to (n_samples, ), for example using ravel().\n",
            "  y = column_or_1d(y, warn=True)\n"
          ]
        },
        {
          "data": {
            "text/html": [
              "<style>#sk-container-id-1 {color: black;}#sk-container-id-1 pre{padding: 0;}#sk-container-id-1 div.sk-toggleable {background-color: white;}#sk-container-id-1 label.sk-toggleable__label {cursor: pointer;display: block;width: 100%;margin-bottom: 0;padding: 0.3em;box-sizing: border-box;text-align: center;}#sk-container-id-1 label.sk-toggleable__label-arrow:before {content: \"▸\";float: left;margin-right: 0.25em;color: #696969;}#sk-container-id-1 label.sk-toggleable__label-arrow:hover:before {color: black;}#sk-container-id-1 div.sk-estimator:hover label.sk-toggleable__label-arrow:before {color: black;}#sk-container-id-1 div.sk-toggleable__content {max-height: 0;max-width: 0;overflow: hidden;text-align: left;background-color: #f0f8ff;}#sk-container-id-1 div.sk-toggleable__content pre {margin: 0.2em;color: black;border-radius: 0.25em;background-color: #f0f8ff;}#sk-container-id-1 input.sk-toggleable__control:checked~div.sk-toggleable__content {max-height: 200px;max-width: 100%;overflow: auto;}#sk-container-id-1 input.sk-toggleable__control:checked~label.sk-toggleable__label-arrow:before {content: \"▾\";}#sk-container-id-1 div.sk-estimator input.sk-toggleable__control:checked~label.sk-toggleable__label {background-color: #d4ebff;}#sk-container-id-1 div.sk-label input.sk-toggleable__control:checked~label.sk-toggleable__label {background-color: #d4ebff;}#sk-container-id-1 input.sk-hidden--visually {border: 0;clip: rect(1px 1px 1px 1px);clip: rect(1px, 1px, 1px, 1px);height: 1px;margin: -1px;overflow: hidden;padding: 0;position: absolute;width: 1px;}#sk-container-id-1 div.sk-estimator {font-family: monospace;background-color: #f0f8ff;border: 1px dotted black;border-radius: 0.25em;box-sizing: border-box;margin-bottom: 0.5em;}#sk-container-id-1 div.sk-estimator:hover {background-color: #d4ebff;}#sk-container-id-1 div.sk-parallel-item::after {content: \"\";width: 100%;border-bottom: 1px solid gray;flex-grow: 1;}#sk-container-id-1 div.sk-label:hover label.sk-toggleable__label {background-color: #d4ebff;}#sk-container-id-1 div.sk-serial::before {content: \"\";position: absolute;border-left: 1px solid gray;box-sizing: border-box;top: 0;bottom: 0;left: 50%;z-index: 0;}#sk-container-id-1 div.sk-serial {display: flex;flex-direction: column;align-items: center;background-color: white;padding-right: 0.2em;padding-left: 0.2em;position: relative;}#sk-container-id-1 div.sk-item {position: relative;z-index: 1;}#sk-container-id-1 div.sk-parallel {display: flex;align-items: stretch;justify-content: center;background-color: white;position: relative;}#sk-container-id-1 div.sk-item::before, #sk-container-id-1 div.sk-parallel-item::before {content: \"\";position: absolute;border-left: 1px solid gray;box-sizing: border-box;top: 0;bottom: 0;left: 50%;z-index: -1;}#sk-container-id-1 div.sk-parallel-item {display: flex;flex-direction: column;z-index: 1;position: relative;background-color: white;}#sk-container-id-1 div.sk-parallel-item:first-child::after {align-self: flex-end;width: 50%;}#sk-container-id-1 div.sk-parallel-item:last-child::after {align-self: flex-start;width: 50%;}#sk-container-id-1 div.sk-parallel-item:only-child::after {width: 0;}#sk-container-id-1 div.sk-dashed-wrapped {border: 1px dashed gray;margin: 0 0.4em 0.5em 0.4em;box-sizing: border-box;padding-bottom: 0.4em;background-color: white;}#sk-container-id-1 div.sk-label label {font-family: monospace;font-weight: bold;display: inline-block;line-height: 1.2em;}#sk-container-id-1 div.sk-label-container {text-align: center;}#sk-container-id-1 div.sk-container {/* jupyter's `normalize.less` sets `[hidden] { display: none; }` but bootstrap.min.css set `[hidden] { display: none !important; }` so we also need the `!important` here to be able to override the default hidden behavior on the sphinx rendered scikit-learn.org. See: https://github.com/scikit-learn/scikit-learn/issues/21755 */display: inline-block !important;position: relative;}#sk-container-id-1 div.sk-text-repr-fallback {display: none;}</style><div id=\"sk-container-id-1\" class=\"sk-top-container\"><div class=\"sk-text-repr-fallback\"><pre>SVR()</pre><b>In a Jupyter environment, please rerun this cell to show the HTML representation or trust the notebook. <br />On GitHub, the HTML representation is unable to render, please try loading this page with nbviewer.org.</b></div><div class=\"sk-container\" hidden><div class=\"sk-item\"><div class=\"sk-estimator sk-toggleable\"><input class=\"sk-toggleable__control sk-hidden--visually\" id=\"sk-estimator-id-1\" type=\"checkbox\" checked><label for=\"sk-estimator-id-1\" class=\"sk-toggleable__label sk-toggleable__label-arrow\">SVR</label><div class=\"sk-toggleable__content\"><pre>SVR()</pre></div></div></div></div></div>"
            ],
            "text/plain": [
              "SVR()"
            ]
          },
          "execution_count": 8,
          "metadata": {},
          "output_type": "execute_result"
        }
      ],
      "source": [
        "from sklearn.svm import SVR\n",
        "regressor = SVR(kernel = 'rbf')\n",
        "regressor.fit(X_train, y_train)"
      ]
    },
    {
      "cell_type": "markdown",
      "metadata": {
        "id": "aPYA5W1pDBOE"
      },
      "source": [
        "## Predicting the Test set results"
      ]
    },
    {
      "cell_type": "code",
      "execution_count": 9,
      "metadata": {
        "colab": {
          "base_uri": "https://localhost:8080/"
        },
        "id": "vSqFVDYrDROW",
        "outputId": "c536ab2a-e7f5-4eab-c99c-0231eb1d7743"
      },
      "outputs": [
        {
          "name": "stdout",
          "output_type": "stream",
          "text": [
            "[[2785.94 2883.63]\n",
            " [5205.35 5147.11]\n",
            " [5333.53 5332.1 ]\n",
            " [3105.11 3027.78]\n",
            " [4263.55 4254.59]\n",
            " [5002.67 4983.  ]\n",
            " [5678.01 5754.96]\n",
            " [4621.81 4693.8 ]\n",
            " [5118.42 5101.13]\n",
            " [5276.11 5268.16]\n",
            " [3768.23 3776.21]\n",
            " [3540.77 3598.99]\n",
            " [2906.15 2921.01]\n",
            " [3886.81 3859.59]\n",
            " [5476.62 5744.86]\n",
            " [5450.16 5505.97]\n",
            " [3404.48 3408.98]\n",
            " [3576.65 3639.76]\n",
            " [5020.57 5031.14]\n",
            " [4681.84 4745.47]\n",
            " [4680.73 4700.42]\n",
            " [4722.63 4650.7 ]\n",
            " [3734.38 3631.08]\n",
            " [4883.12 4969.79]\n",
            " [5074.41 5088.21]\n",
            " [3389.77 3314.91]\n",
            " [4383.42 4430.49]\n",
            " [2656.74 2656.26]\n",
            " [5636.39 5877.19]\n",
            " [5656.16 5744.99]\n",
            " [5377.38 5390.76]\n",
            " [4475.26 4417.34]\n",
            " [4630.64 4498.07]\n",
            " [3763.72 3818.71]\n",
            " [2659.53 2619.36]\n",
            " [3366.92 3377.38]\n",
            " [2774.07 2815.34]\n",
            " [5913.42 5961.49]\n",
            " [3483.98 3525.66]\n",
            " [3239.62 3093.71]\n",
            " [4001.68 4034.64]\n",
            " [3512.41 3546.34]\n",
            " [4002.28 3937.59]\n",
            " [4007.99 3952.58]\n",
            " [2658.07 2755.75]\n",
            " [3647.07 3630.24]\n",
            " [3639.98 3653.25]\n",
            " [3476.63 3435.18]\n",
            " [3306.04 3109.29]\n",
            " [5351.85 5290.06]\n",
            " [5587.53 5590.7 ]\n",
            " [5148.24 5080.4 ]\n",
            " [3791.72 3750.37]\n",
            " [3987.78 3985.8 ]\n",
            " [4289.06 4235.19]\n",
            " [5468.4  5634.35]\n",
            " [4963.97 4950.15]\n",
            " [4600.33 4683.  ]\n",
            " [4571.21 4531.32]\n",
            " [5354.35 5338.17]\n",
            " [4082.99 4075.67]\n",
            " [4682.6  4684.93]\n",
            " [3576.24 3536.81]\n",
            " [4480.98 4576.47]\n",
            " [4969.94 5023.85]\n",
            " [4803.92 4900.84]\n",
            " [3946.22 3883.46]\n",
            " [4312.11 4306.74]\n",
            " [2019.96 1683.95]\n",
            " [3766.54 3751.05]\n",
            " [4661.41 4684.16]\n",
            " [5186.11 5247.04]\n",
            " [5485.13 5781.83]\n",
            " [5395.66 5369.95]\n",
            " [2465.47 2478.55]\n",
            " [4125.53 4099.62]\n",
            " [4259.58 4172.54]\n",
            " [5033.94 5050.37]\n",
            " [4828.5  4749.64]\n",
            " [3818.48 3816.15]\n",
            " [5813.74 5842.72]\n",
            " [3465.07 3534.74]\n",
            " [3576.59 3601.86]\n",
            " [5054.25 5040.46]\n",
            " [5060.11 5063.9 ]\n",
            " [3307.53 3249.36]\n",
            " [3174.94 3253.47]\n",
            " [3904.46 3965.87]\n",
            " [3639.23 3609.75]\n",
            " [5739.7  5646.19]\n",
            " [3050.19 3127.07]\n",
            " [3937.91 4002.72]\n",
            " [3759.37 3715.45]\n",
            " [3423.5  3435.21]\n",
            " [3673.14 3733.52]\n",
            " [3402.62 3395.45]\n",
            " [3746.62 3578.29]\n",
            " [4236.7  4246.55]\n",
            " [4269.35 4271.39]\n",
            " [4579.13 4612.22]\n",
            " [4142.59 4090.41]\n",
            " [4987.22 4956.67]\n",
            " [4359.5  4307.72]\n",
            " [5357.84 5359.1 ]\n",
            " [3628.04 3663.21]\n",
            " [5292.07 5329.29]\n",
            " [4957.32 5054.19]\n",
            " [3469.03 3487.69]\n",
            " [4642.18 4748.66]\n",
            " [4773.94 4710.15]\n",
            " [3036.61 2961.76]\n",
            " [4149.15 4085.95]\n",
            " [2626.21 2735.63]\n",
            " [3549.83 3601.83]\n",
            " [2802.79 2752.62]\n",
            " [5069.61 5082.68]\n",
            " [5231.08 5177.22]\n",
            " [3636.21 3689.04]\n",
            " [2508.5  2475.76]\n",
            " [3243.31 3314.12]\n",
            " [3286.65 3304.91]\n",
            " [3238.15 3249.48]\n",
            " [3801.87 3744.59]\n",
            " [4496.89 4443.15]\n",
            " [4017.67 4027.56]\n",
            " [2820.05 2696.49]\n",
            " [5651.19 5607.7 ]\n",
            " [4577.74 4561.71]\n",
            " [4325.25 4351.81]\n",
            " [2713.76 2660.28]\n",
            " [3940.94 3953.1 ]\n",
            " [4702.97 4698.47]\n",
            " [4928.5  5037.86]\n",
            " [3822.07 3900.33]\n",
            " [5195.99 5327.65]\n",
            " [5083.61 4957.36]\n",
            " [4292.19 4302.81]\n",
            " [5646.73 5841.65]\n",
            " [4925.07 4876.08]\n",
            " [3236.35 3290.94]\n",
            " [3752.03 3796.71]\n",
            " [2619.62 2622.38]\n",
            " [4114.68 4214.3 ]\n",
            " [5157.07 5018.25]\n",
            " [6204.2  6383.5 ]\n",
            " [4125.27 4218.29]\n",
            " [3686.18 3701.68]\n",
            " [4186.86 4213.66]\n",
            " [2325.74 2417.11]\n",
            " [2294.75 2205.2 ]\n",
            " [5594.42 5660.75]\n",
            " [4190.04 4230.09]\n",
            " [4648.87 4543.67]\n",
            " [4396.39 4460.84]\n",
            " [4175.64 4211.11]\n",
            " [6314.33 6458.51]\n",
            " [2457.09 2241.96]\n",
            " [2858.49 2862.17]\n",
            " [4568.01 4601.21]\n",
            " [3035.13 3057.53]\n",
            " [5750.99 5862.82]\n",
            " [2763.53 2683.73]\n",
            " [3393.93 3372.2 ]\n",
            " [3239.09 3196.17]\n",
            " [3510.45 3546.62]\n",
            " [4882.49 4854.25]\n",
            " [3401.54 3103.65]\n",
            " [4720.13 4796.83]\n",
            " [4804.63 4787.64]\n",
            " [5719.3  5866.63]\n",
            " [5687.68 5669.86]\n",
            " [4130.55 4102.94]\n",
            " [3063.88 3148.79]\n",
            " [4874.37 4813.61]\n",
            " [3002.4  2744.38]\n",
            " [3650.14 3655.82]\n",
            " [5185.21 5164.94]\n",
            " [2837.37 2500.56]\n",
            " [3359.97 3372.41]\n",
            " [4800.21 4922.36]\n",
            " [3805.82 3838.73]\n",
            " [3271.25 3423.63]\n",
            " [5199.02 5260.26]\n",
            " [2249.08 2137.35]\n",
            " [5017.58 4979.87]\n",
            " [3728.73 3773.61]\n",
            " [3532.95 3602.33]\n",
            " [2914.91 2811.68]\n",
            " [3062.65 3140.2 ]\n",
            " [4136.6  4195.75]\n",
            " [3583.55 3571.76]\n",
            " [3346.1  3388.25]\n",
            " [4997.9  4947.78]\n",
            " [4765.31 4687.67]\n",
            " [4371.95 4377.04]\n",
            " [4312.56 4314.56]\n",
            " [5399.19 5438.11]\n",
            " [4600.77 4600.3 ]\n",
            " [4472.32 4518.12]\n",
            " [4841.81 4805.22]]\n"
          ]
        }
      ],
      "source": [
        "y_pred = sc_y.inverse_transform(regressor.predict(sc_X.transform(X_test)).reshape(-1,1))\n",
        "np.set_printoptions(precision=2)\n",
        "print(np.concatenate((y_pred.reshape(len(y_pred),1), y_test.reshape(len(y_test),1)),1))"
      ]
    },
    {
      "cell_type": "markdown",
      "metadata": {
        "id": "CMsYlps2DX1d"
      },
      "source": [
        "## Evaluating the Model Performance"
      ]
    },
    {
      "cell_type": "code",
      "execution_count": 10,
      "metadata": {
        "colab": {
          "base_uri": "https://localhost:8080/"
        },
        "id": "HxsRWlURDr6S",
        "outputId": "926a31e5-5cbc-4b56-fac3-4971581af8b8"
      },
      "outputs": [
        {
          "data": {
            "text/plain": [
              "0.9918749300413906"
            ]
          },
          "execution_count": 10,
          "metadata": {},
          "output_type": "execute_result"
        }
      ],
      "source": [
        "from sklearn.metrics import r2_score\n",
        "r2_score(y_test, y_pred)"
      ]
    }
  ],
  "metadata": {
    "colab": {
      "collapsed_sections": [],
      "provenance": []
    },
    "kernelspec": {
      "display_name": "Python 3",
      "name": "python3"
    },
    "language_info": {
      "codemirror_mode": {
        "name": "ipython",
        "version": 3
      },
      "file_extension": ".py",
      "mimetype": "text/x-python",
      "name": "python",
      "nbconvert_exporter": "python",
      "pygments_lexer": "ipython3",
      "version": "3.8.9"
    }
  },
  "nbformat": 4,
  "nbformat_minor": 0
}
